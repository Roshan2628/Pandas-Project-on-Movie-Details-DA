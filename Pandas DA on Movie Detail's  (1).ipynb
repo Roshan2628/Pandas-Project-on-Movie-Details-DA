{
 "cells": [
  {
   "cell_type": "markdown",
   "id": "9d46f245-5b47-4f71-b373-6d4426269a38",
   "metadata": {},
   "source": [
    "## Pandas Project on Movie Data Sets"
   ]
  },
  {
   "cell_type": "markdown",
   "id": "39182000-882f-4e2c-95e8-d0cf730f56cf",
   "metadata": {},
   "source": [
    "## Pandas Project on Movie Data Sets"
   ]
  },
  {
   "cell_type": "code",
   "execution_count": 1,
   "id": "c90489a1-11ab-4148-9877-0f8b0abf6c40",
   "metadata": {},
   "outputs": [],
   "source": [
    "# We Need to import Library -\n",
    "\n",
    "import pandas as pd\n",
    "import numpy as np\n",
    "import seaborn as sns\n",
    "import matplotlib.pyplot as plt"
   ]
  },
  {
   "cell_type": "code",
   "execution_count": 2,
   "id": "c4d57946-dd1a-4675-8844-56e363f6aab4",
   "metadata": {},
   "outputs": [
    {
     "name": "stdout",
     "output_type": "stream",
     "text": [
      "                     title  year\n",
      "0           The Rising Son  1990\n",
      "1  The Thousand Plane Raid  1969\n",
      "title    object\n",
      "year      int64\n",
      "dtype: object\n"
     ]
    }
   ],
   "source": [
    "## now we importing the data -\n",
    "titles = pd.read_csv('D:/Top Mentor/Classes Details/17th March 2024/Files/titles.csv')\n",
    "print(titles.head(2))\n",
    "print(titles.dtypes)"
   ]
  },
  {
   "cell_type": "code",
   "execution_count": 3,
   "id": "6d5ad2df-f7c0-4d35-9428-7eff15beb272",
   "metadata": {},
   "outputs": [
    {
     "name": "stdout",
     "output_type": "stream",
     "text": [
      "                     title  year\n",
      "0           The Rising Son  1990\n",
      "1  The Thousand Plane Raid  1969\n",
      "(230621, 2)\n"
     ]
    }
   ],
   "source": [
    "## Copy our data that our main data will be actual -:\n",
    "df = titles.copy()\n",
    "print(df.head(2))\n",
    "print(df.shape)"
   ]
  },
  {
   "cell_type": "code",
   "execution_count": 4,
   "id": "0a972faa-c45a-48db-a3e0-13721f90ee21",
   "metadata": {},
   "outputs": [
    {
     "name": "stdout",
     "output_type": "stream",
     "text": [
      "Min year -  1894\n",
      "Max year -  2026\n",
      "No of Unique Title -  210937\n",
      "no of columns -  Index(['title', 'year'], dtype='object')\n",
      "no of shapes -  (230621, 2)\n",
      "no of lenght -  230621\n",
      "no of datatype - \n",
      " title    object\n",
      "year      int64\n",
      "dtype: object\n",
      "data information -  <bound method DataFrame.info of                                        title  year\n",
      "0                             The Rising Son  1990\n",
      "1                    The Thousand Plane Raid  1969\n",
      "2                           Crucea de piatra  1993\n",
      "3                                    Country  2000\n",
      "4                                 Gaiking II  2011\n",
      "...                                      ...   ...\n",
      "230616                 Nobody Waved Good-bye  1964\n",
      "230617                                 E yue  2005\n",
      "230618                          Lakota Girls  2015\n",
      "230619                        Kroniki domowe  1997\n",
      "230620  Death in the Valley of Good and Evil  2018\n",
      "\n",
      "[230621 rows x 2 columns]>\n"
     ]
    }
   ],
   "source": [
    "## Data Reading Basic Steps :-\n",
    "\n",
    "print('Min year - ',df['year'].min())\n",
    "print('Max year - ',df['year'].max())\n",
    "print('No of Unique Title - ',df['title'].nunique())\n",
    "print('no of columns - ' , df.columns)\n",
    "print('no of shapes - ' , df.shape)\n",
    "print('no of lenght - ' , len(df))\n",
    "print('no of datatype - \\n' , df.dtypes)\n",
    "print('data information - ' , df.info)    "
   ]
  },
  {
   "cell_type": "code",
   "execution_count": 5,
   "id": "166b2977-a2d9-4772-8e00-fcade858bb2b",
   "metadata": {},
   "outputs": [
    {
     "name": "stdout",
     "output_type": "stream",
     "text": [
      "(8664, 2)\n",
      "8663\n"
     ]
    }
   ],
   "source": [
    "### How to check yearwise unique count like movies relase in 2015\n",
    "\n",
    "y_2015 = df[df['year']==2015]\n",
    "print(y_2015.shape)\n",
    "print(y_2015['title'].nunique())"
   ]
  },
  {
   "cell_type": "code",
   "execution_count": 7,
   "id": "382ee0ae-e221-45e6-8142-da5460d7d32d",
   "metadata": {},
   "outputs": [
    {
     "name": "stdout",
     "output_type": "stream",
     "text": [
      "title    1\n",
      "year     0\n",
      "dtype: int64\n"
     ]
    }
   ],
   "source": [
    "# Checking the null Values -\n",
    "print(df.isnull().sum())"
   ]
  },
  {
   "cell_type": "code",
   "execution_count": 8,
   "id": "5efad8b5-af0c-4ee4-b35f-679da3eddaef",
   "metadata": {},
   "outputs": [
    {
     "name": "stdout",
     "output_type": "stream",
     "text": [
      "(230621, 2)\n"
     ]
    }
   ],
   "source": [
    "#### Now we have to drop the row with null value -\n",
    "print(df.shape)"
   ]
  },
  {
   "cell_type": "code",
   "execution_count": 9,
   "id": "bc89280a-55a7-47f8-8a6e-3a011a1b37a5",
   "metadata": {},
   "outputs": [],
   "source": [
    "df.dropna(inplace=True)"
   ]
  },
  {
   "cell_type": "code",
   "execution_count": 14,
   "id": "18508e6b-e5ea-4b9b-b657-57b9f42254f0",
   "metadata": {},
   "outputs": [
    {
     "name": "stdout",
     "output_type": "stream",
     "text": [
      "title    0\n",
      "year     0\n",
      "dtype: int64\n"
     ]
    }
   ],
   "source": [
    "# After Dropping the null value cross checking - \n",
    "print(df.isnull().sum())"
   ]
  },
  {
   "cell_type": "code",
   "execution_count": null,
   "id": "42668b0f-e11d-4845-b102-65a5493c00a5",
   "metadata": {},
   "outputs": [],
   "source": [
    "##  Currently no null value found in our data ."
   ]
  },
  {
   "cell_type": "code",
   "execution_count": 10,
   "id": "22c71828-8a2a-49bc-8f1c-238e2783be88",
   "metadata": {},
   "outputs": [
    {
     "name": "stdin",
     "output_type": "stream",
     "text": [
      "Enter year between 1894-2026 -  2000\n"
     ]
    },
    {
     "name": "stdout",
     "output_type": "stream",
     "text": [
      "(2736, 2)\n",
      "No of movies release in year - 2000 is -  2736\n"
     ]
    }
   ],
   "source": [
    "## If we have to check movie year wise then we can check from given data - \n",
    "year = int(input('Enter year between 1894-2026 - '))\n",
    "y = df[df['year']==year]\n",
    "print(y.shape)\n",
    "print(\"No of movies release in year -\", year , \"is - \" , y['title'].nunique())"
   ]
  },
  {
   "cell_type": "code",
   "execution_count": 11,
   "id": "fd9fd1e9-4402-400d-bf91-45bb5b0da944",
   "metadata": {},
   "outputs": [
    {
     "data": {
      "text/html": [
       "<div>\n",
       "<style scoped>\n",
       "    .dataframe tbody tr th:only-of-type {\n",
       "        vertical-align: middle;\n",
       "    }\n",
       "\n",
       "    .dataframe tbody tr th {\n",
       "        vertical-align: top;\n",
       "    }\n",
       "\n",
       "    .dataframe thead th {\n",
       "        text-align: right;\n",
       "    }\n",
       "</style>\n",
       "<table border=\"1\" class=\"dataframe\">\n",
       "  <thead>\n",
       "    <tr style=\"text-align: right;\">\n",
       "      <th></th>\n",
       "      <th>title</th>\n",
       "      <th>year</th>\n",
       "    </tr>\n",
       "  </thead>\n",
       "  <tbody>\n",
       "    <tr>\n",
       "      <th>12</th>\n",
       "      <td>Poka Makorer Ghar Bosoti</td>\n",
       "      <td>1996</td>\n",
       "    </tr>\n",
       "    <tr>\n",
       "      <th>123</th>\n",
       "      <td>Steal Kill Destroy</td>\n",
       "      <td>2015</td>\n",
       "    </tr>\n",
       "    <tr>\n",
       "      <th>414</th>\n",
       "      <td>Jeff Steele: Children of the Doomed</td>\n",
       "      <td>2011</td>\n",
       "    </tr>\n",
       "    <tr>\n",
       "      <th>111</th>\n",
       "      <td>Kimurake no hitobito</td>\n",
       "      <td>1988</td>\n",
       "    </tr>\n",
       "  </tbody>\n",
       "</table>\n",
       "</div>"
      ],
      "text/plain": [
       "                                   title  year\n",
       "12              Poka Makorer Ghar Bosoti  1996\n",
       "123                   Steal Kill Destroy  2015\n",
       "414  Jeff Steele: Children of the Doomed  2011\n",
       "111                 Kimurake no hitobito  1988"
      ]
     },
     "execution_count": 11,
     "metadata": {},
     "output_type": "execute_result"
    }
   ],
   "source": [
    "## .loc use to index numbering - it understand row index as like a filtering our data\n",
    "df.loc[[12,123,414,111]]"
   ]
  },
  {
   "cell_type": "code",
   "execution_count": 12,
   "id": "01b5a513-4b0d-468c-9b27-1ae71eddc9aa",
   "metadata": {},
   "outputs": [],
   "source": [
    "## Correction in header - \n",
    "df.rename(columns = {'title': 'Movie Name' , 'year' : 'Year'}, inplace = True )"
   ]
  },
  {
   "cell_type": "code",
   "execution_count": 13,
   "id": "7ff75765-8871-4f77-9a35-de831636c07a",
   "metadata": {},
   "outputs": [
    {
     "name": "stdout",
     "output_type": "stream",
     "text": [
      "                Movie Name  Year\n",
      "0           The Rising Son  1990\n",
      "1  The Thousand Plane Raid  1969\n"
     ]
    }
   ],
   "source": [
    "print(df.head(2))"
   ]
  },
  {
   "cell_type": "code",
   "execution_count": 16,
   "id": "9e1fe662-c565-44b2-b860-5d142def1419",
   "metadata": {},
   "outputs": [
    {
     "name": "stdout",
     "output_type": "stream",
     "text": [
      "Max movie release in Year -  2016\n",
      "Min movie release in Year -  2024\n"
     ]
    }
   ],
   "source": [
    "## Cheecking the movie release max & min year wise - \n",
    "\n",
    "print('Max movie release in Year - ' ,df['Year'].value_counts().idxmax())\n",
    "print('Min movie release in Year - ' ,df['Year'].value_counts().idxmin())"
   ]
  },
  {
   "cell_type": "code",
   "execution_count": 18,
   "id": "495116c5-95d5-49aa-8d8b-96c3bb390f97",
   "metadata": {},
   "outputs": [
    {
     "data": {
      "text/plain": [
       "Year\n",
       "1894     1\n",
       "1898     1\n",
       "1899     1\n",
       "1900     4\n",
       "1903     1\n",
       "        ..\n",
       "2022    18\n",
       "2023    11\n",
       "2024     1\n",
       "2025     1\n",
       "2026     1\n",
       "Name: count, Length: 127, dtype: int64"
      ]
     },
     "execution_count": 18,
     "metadata": {},
     "output_type": "execute_result"
    }
   ],
   "source": [
    "# Year Wise Movie Realease count - \n",
    "df['Year'].value_counts().sort_index()"
   ]
  },
  {
   "cell_type": "code",
   "execution_count": null,
   "id": "4aca5c5a-3cb9-4267-a33c-fb612f2773e8",
   "metadata": {},
   "outputs": [],
   "source": []
  },
  {
   "cell_type": "code",
   "execution_count": null,
   "id": "93514c30-4da8-4ebe-8ffa-e5f5de1493f0",
   "metadata": {},
   "outputs": [],
   "source": []
  },
  {
   "cell_type": "code",
   "execution_count": null,
   "id": "7635d3b7-b00a-41a6-b4a2-bbaedfd6570c",
   "metadata": {},
   "outputs": [],
   "source": []
  },
  {
   "cell_type": "code",
   "execution_count": null,
   "id": "3de1c3b1-769a-437c-8338-460c6601056a",
   "metadata": {},
   "outputs": [],
   "source": []
  },
  {
   "cell_type": "code",
   "execution_count": null,
   "id": "edfd670f-5a1d-469c-a63c-9a46912cfcf5",
   "metadata": {},
   "outputs": [],
   "source": []
  },
  {
   "cell_type": "code",
   "execution_count": null,
   "id": "dd793195-9580-460d-8273-1a615c68b21d",
   "metadata": {},
   "outputs": [],
   "source": []
  },
  {
   "cell_type": "code",
   "execution_count": null,
   "id": "de81d4ce-e79d-42d4-9de6-a034e548a2d6",
   "metadata": {},
   "outputs": [],
   "source": []
  },
  {
   "cell_type": "code",
   "execution_count": null,
   "id": "5372951f-a2be-491b-ae19-d948a9d592ab",
   "metadata": {},
   "outputs": [],
   "source": []
  },
  {
   "cell_type": "code",
   "execution_count": null,
   "id": "1c4f168e-76be-4401-92c5-8b162480cb90",
   "metadata": {},
   "outputs": [],
   "source": []
  },
  {
   "cell_type": "code",
   "execution_count": null,
   "id": "02475552-4524-40fb-9104-a9f3cc3ee31c",
   "metadata": {},
   "outputs": [],
   "source": []
  },
  {
   "cell_type": "code",
   "execution_count": null,
   "id": "2c8f54aa-576d-4938-b6e1-0d980f568883",
   "metadata": {},
   "outputs": [],
   "source": []
  },
  {
   "cell_type": "code",
   "execution_count": null,
   "id": "74a14742-3e2b-49a8-979c-98011d622b37",
   "metadata": {},
   "outputs": [],
   "source": []
  },
  {
   "cell_type": "code",
   "execution_count": null,
   "id": "540b65ff-ac41-442c-a794-ed2cf181ee5c",
   "metadata": {},
   "outputs": [],
   "source": []
  },
  {
   "cell_type": "code",
   "execution_count": null,
   "id": "67596cc4-857e-4127-bc68-2edc21121358",
   "metadata": {},
   "outputs": [],
   "source": []
  },
  {
   "cell_type": "code",
   "execution_count": null,
   "id": "f4631304-a643-4259-95d3-ac437055bb61",
   "metadata": {},
   "outputs": [],
   "source": []
  },
  {
   "cell_type": "code",
   "execution_count": null,
   "id": "cafbd803-43f1-4b0a-b191-f4bc607f9b0d",
   "metadata": {},
   "outputs": [],
   "source": []
  },
  {
   "cell_type": "code",
   "execution_count": null,
   "id": "686bef2a-d30c-4eb1-84d8-98d37272869f",
   "metadata": {},
   "outputs": [],
   "source": []
  },
  {
   "cell_type": "code",
   "execution_count": null,
   "id": "b900bc52-a6f1-4eb4-b3aa-8f4f6da79682",
   "metadata": {},
   "outputs": [],
   "source": []
  },
  {
   "cell_type": "code",
   "execution_count": null,
   "id": "4a01a17b-7cb6-4a58-aa3d-eadfda1135bc",
   "metadata": {},
   "outputs": [],
   "source": []
  },
  {
   "cell_type": "code",
   "execution_count": null,
   "id": "b750f750-cccf-4af3-9d75-84155a7c9186",
   "metadata": {},
   "outputs": [],
   "source": []
  },
  {
   "cell_type": "code",
   "execution_count": null,
   "id": "478634b1-37f4-4535-bd04-68fce428b5e8",
   "metadata": {},
   "outputs": [],
   "source": []
  },
  {
   "cell_type": "code",
   "execution_count": null,
   "id": "94731866-183b-4322-b6b3-f1b7e54a15d7",
   "metadata": {},
   "outputs": [],
   "source": []
  },
  {
   "cell_type": "code",
   "execution_count": null,
   "id": "63a307be-d751-4bb8-9891-70fb3cb57a1b",
   "metadata": {},
   "outputs": [],
   "source": []
  },
  {
   "cell_type": "code",
   "execution_count": null,
   "id": "ec75b466-2c47-41b6-ac0e-d2d1ae9d1139",
   "metadata": {},
   "outputs": [],
   "source": []
  },
  {
   "cell_type": "code",
   "execution_count": null,
   "id": "a05b2ffe-02fb-40cc-a514-b32525d15b57",
   "metadata": {},
   "outputs": [],
   "source": []
  },
  {
   "cell_type": "code",
   "execution_count": null,
   "id": "035866a7-e338-4a04-8c7c-48f1f313e69f",
   "metadata": {},
   "outputs": [],
   "source": []
  },
  {
   "cell_type": "code",
   "execution_count": null,
   "id": "49acacc5-fafd-44b9-91be-2e2c15516f7b",
   "metadata": {},
   "outputs": [],
   "source": []
  },
  {
   "cell_type": "code",
   "execution_count": null,
   "id": "33fb9f70-0867-493f-95a5-210c5838bea1",
   "metadata": {},
   "outputs": [],
   "source": []
  },
  {
   "cell_type": "code",
   "execution_count": null,
   "id": "dd9a623d-11ee-4340-bf5d-1b9ef19a4754",
   "metadata": {},
   "outputs": [],
   "source": []
  },
  {
   "cell_type": "code",
   "execution_count": null,
   "id": "d479d409-7d3c-4d21-9011-3639a380a072",
   "metadata": {},
   "outputs": [],
   "source": []
  },
  {
   "cell_type": "code",
   "execution_count": null,
   "id": "cb76481c-d8d2-4579-afd3-735c7244b627",
   "metadata": {},
   "outputs": [],
   "source": []
  },
  {
   "cell_type": "code",
   "execution_count": null,
   "id": "10b1e022-5b3e-4a6d-ae2c-49b06ed68dba",
   "metadata": {},
   "outputs": [],
   "source": []
  },
  {
   "cell_type": "code",
   "execution_count": null,
   "id": "8451d1c3-af0e-4fa6-9e95-1f33c3ba5a8f",
   "metadata": {},
   "outputs": [],
   "source": []
  },
  {
   "cell_type": "code",
   "execution_count": null,
   "id": "cd5df679-c1a7-4b74-8941-ef748eda9489",
   "metadata": {},
   "outputs": [],
   "source": []
  },
  {
   "cell_type": "code",
   "execution_count": null,
   "id": "681e5743-bac7-462b-a394-f42e4f52e0b5",
   "metadata": {},
   "outputs": [],
   "source": []
  },
  {
   "cell_type": "code",
   "execution_count": null,
   "id": "ef7e5006-b718-4638-b84b-17524ab2cbc5",
   "metadata": {},
   "outputs": [],
   "source": []
  },
  {
   "cell_type": "code",
   "execution_count": null,
   "id": "1be708c9-d483-4dde-bb55-c2a003495aaa",
   "metadata": {},
   "outputs": [],
   "source": []
  },
  {
   "cell_type": "code",
   "execution_count": null,
   "id": "f8a6bee5-2890-42ea-8dbe-102a43dd2d3e",
   "metadata": {},
   "outputs": [],
   "source": []
  },
  {
   "cell_type": "code",
   "execution_count": null,
   "id": "753ef25c-6cca-492c-9245-6785f3a81c29",
   "metadata": {},
   "outputs": [],
   "source": []
  },
  {
   "cell_type": "code",
   "execution_count": null,
   "id": "fd450e37-df07-4457-8380-2183aa1175f6",
   "metadata": {},
   "outputs": [],
   "source": []
  },
  {
   "cell_type": "code",
   "execution_count": null,
   "id": "73900a65-f59a-4d42-b0d5-0de401969860",
   "metadata": {},
   "outputs": [],
   "source": []
  },
  {
   "cell_type": "code",
   "execution_count": null,
   "id": "fbe01ba7-9bf3-4fd3-ba8d-14aed3780526",
   "metadata": {},
   "outputs": [],
   "source": []
  },
  {
   "cell_type": "code",
   "execution_count": null,
   "id": "3a4bd047-80cb-4baa-96f2-0848aaef55b6",
   "metadata": {},
   "outputs": [],
   "source": []
  },
  {
   "cell_type": "code",
   "execution_count": null,
   "id": "bd9ac363-d082-4a16-bbbe-a132e6a5db57",
   "metadata": {},
   "outputs": [],
   "source": []
  },
  {
   "cell_type": "code",
   "execution_count": null,
   "id": "b7e6f560-1f8b-4123-8603-eb9d66ca0f2e",
   "metadata": {},
   "outputs": [],
   "source": []
  },
  {
   "cell_type": "code",
   "execution_count": null,
   "id": "c36f7276-c866-462c-b634-3319fd074b1f",
   "metadata": {},
   "outputs": [],
   "source": []
  },
  {
   "cell_type": "code",
   "execution_count": null,
   "id": "f208adaa-e498-4276-b65d-2379c0f2e678",
   "metadata": {},
   "outputs": [],
   "source": []
  },
  {
   "cell_type": "code",
   "execution_count": null,
   "id": "588a92bf-ff49-4d6b-ac9c-f3feb4e2e3e9",
   "metadata": {},
   "outputs": [],
   "source": []
  },
  {
   "cell_type": "code",
   "execution_count": null,
   "id": "c9fc1204-b85e-4731-aff0-e31b0b6055b1",
   "metadata": {},
   "outputs": [],
   "source": []
  }
 ],
 "metadata": {
  "kernelspec": {
   "display_name": "Python 3 (ipykernel)",
   "language": "python",
   "name": "python3"
  },
  "language_info": {
   "codemirror_mode": {
    "name": "ipython",
    "version": 3
   },
   "file_extension": ".py",
   "mimetype": "text/x-python",
   "name": "python",
   "nbconvert_exporter": "python",
   "pygments_lexer": "ipython3",
   "version": "3.11.7"
  }
 },
 "nbformat": 4,
 "nbformat_minor": 5
}
